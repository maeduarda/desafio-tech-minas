{
  "nbformat": 4,
  "nbformat_minor": 0,
  "metadata": {
    "colab": {
      "provenance": [],
      "collapsed_sections": []
    },
    "kernelspec": {
      "name": "python3",
      "display_name": "Python 3"
    },
    "language_info": {
      "name": "python"
    }
  },
  "cells": [
    {
      "cell_type": "markdown",
      "source": [
        "### Bem vindas ao desafio de python do bootcamp Tech Minas da WoMakersCode!\n",
        "Neste notebook, voce deve escrever o codigo python em resposta à cada uma das perguntas. Esteja atenta ao enunciado do problema!\n"
      ],
      "metadata": {
        "id": "Z55f1u4p4oHu"
      }
    },
    {
      "cell_type": "markdown",
      "source": [
        "### Desafio 1\n",
        "Escreva uma função em python que lê dois números inteiros (a,b) e gere como resultado as seguintes operações:adição, subtração, multiplicação e divisão. Execute a funçao na celula abaixo, deixando visivel exemplos de resultados.\n"
      ],
      "metadata": {
        "id": "oFGdIzuu5W7b"
      }
    },
    {
      "cell_type": "code",
      "source": [
        "##### ESCREVER A FUNÇAO ABAIXO\n",
        "def operations(a,b):\n",
        "  #### Escrever abaixo\n",
        "  a = int(input(\"Digite um número: \"))\n",
        "  b = int(input(\"Digite outro número: \"))\n",
        "  soma = a + b\n",
        "  subtracao = a - b\n",
        "  multiplicacao = a * b\n",
        "  divisao = a / b \n",
        "\n",
        "  print(\"A soma de\", a, \"+\", b, \"é: \", soma)\n",
        "  print(\"A subtração de\", a, \"-\", b, \"é: \", subtracao)\n",
        "  print(\"A multiplicação de\", a, \"*\", b, \"é: \", multiplicacao)\n",
        "  print(\"A dividão de\", a, \"%\", b, \"é: \", divisao)\n",
        "\n",
        "\n",
        "\n",
        " \n",
        "  \n",
        "  "
      ],
      "metadata": {
        "id": "LzCl-VH14t4a"
      },
      "execution_count": null,
      "outputs": []
    },
    {
      "cell_type": "code",
      "execution_count": null,
      "metadata": {
        "id": "kMNcvrYZ4krA",
        "colab": {
          "base_uri": "https://localhost:8080/"
        },
        "outputId": "57d49569-319c-4e38-d3bc-514d00ce0a35"
      },
      "outputs": [
        {
          "output_type": "stream",
          "name": "stdout",
          "text": [
            "Digite um número: 3\n",
            "Digite outro número: 6\n",
            "A soma de 3 + 6 é:  9\n",
            "A subtração de 3 - 6 é:  -3\n",
            "A multiplicação de 3 * 6 é:  18\n",
            "A dividão de 3 % 6 é:  0.5\n"
          ]
        }
      ],
      "source": [
        "#### RODAR A FUNÇAO\n",
        "\n",
        "\n",
        "operations(0 , 0)"
      ]
    },
    {
      "cell_type": "code",
      "source": [],
      "metadata": {
        "id": "0_GDIGYY_fyf"
      },
      "execution_count": null,
      "outputs": []
    },
    {
      "cell_type": "markdown",
      "source": [
        "### Desafio 2\n",
        "Escreva uma função em python que leia como input uma idade e retorne a classificaçao da ideade do individuo da seguinte forma em:\n",
        "\n",
        "*  Criança – 0 a 12 anos\n",
        "*  Adolescente – 13 a 17 anos\n",
        "*  Adulto – acima de 18 anos\n",
        "\n",
        "\n",
        "Se a idade for um número negativo, mostrar a mensagem que a \"idade inválida\"\n",
        "\n"
      ],
      "metadata": {
        "id": "m_tFtRo5581u"
      }
    },
    {
      "cell_type": "code",
      "source": [
        "##### ESCREVER A FUNCAO ABAIXO\n",
        "def classifica_idade(idade):\n",
        "  #### escrever abaixo\n",
        "  idade = int(input(\"Digite a idade do usuário: \"))\n",
        "  if idade >= 0 and  idade < 13:\n",
        "    print('Criança')\n",
        "  elif idade > 12 and idade < 18: \n",
        "    print('Adolescente')\n",
        "  elif idade >= 18:\n",
        "    print(\"Adulto\")\n",
        "  else: \n",
        "    print(\"idade inválida\")\n",
        " "
      ],
      "metadata": {
        "id": "cL-OpHGv6hyc"
      },
      "execution_count": null,
      "outputs": []
    },
    {
      "cell_type": "code",
      "source": [
        "#### RODAR A FUNCAO\n",
        "classifica_idade(0)"
      ],
      "metadata": {
        "id": "49IE2lI66zNO",
        "colab": {
          "base_uri": "https://localhost:8080/"
        },
        "outputId": "3d41ad51-87eb-4097-b13b-d3bececbe873"
      },
      "execution_count": null,
      "outputs": [
        {
          "output_type": "stream",
          "name": "stdout",
          "text": [
            "Digite a idade do usuário: 12\n",
            "Criança\n"
          ]
        }
      ]
    },
    {
      "cell_type": "markdown",
      "source": [
        "### Desafio 3\n",
        "Crie uma função em python que receba como input um determinado horário em horas e retorne a conversao deste horário para segundos\n"
      ],
      "metadata": {
        "id": "wIGGNN_v60s4"
      }
    },
    {
      "cell_type": "code",
      "source": [
        "##### ESCREVER A FUNCAO ABAIXO\n",
        "def time_converter(t):\n",
        "  ##### escrever abaixo\n",
        "  t = int(input(\"Horas:\"))\n",
        "  total_em_segundos = t * 3600\n",
        "  print(\"Horas em segundos: \", total_em_segundos)\n"
      ],
      "metadata": {
        "id": "JOF_tcax7ABd"
      },
      "execution_count": null,
      "outputs": []
    },
    {
      "cell_type": "code",
      "source": [
        "##### RODAR A FUNCAO\n",
        "time_converter(0)"
      ],
      "metadata": {
        "id": "AJf1IqiC7Mq_",
        "colab": {
          "base_uri": "https://localhost:8080/"
        },
        "outputId": "800263a7-a4ed-4a7a-9194-3c2855be1092"
      },
      "execution_count": null,
      "outputs": [
        {
          "output_type": "stream",
          "name": "stdout",
          "text": [
            "Horas:1\n",
            "Horas em segundos:  3600\n"
          ]
        }
      ]
    },
    {
      "cell_type": "markdown",
      "source": [
        "### Desafio 4\n",
        "Crie uma função em python que calcule a média artimética de uma aluna que cursou a disciplina de Programação I. A funcao deve receber como input as notas M1, M2 e M3 e calcular a média. Após a média calculada, a funcao deve anunciar se a aluna foi aprovado, reprovado ou pegou exame de acordo conm a seguinte classificacao:\n",
        "\n",
        "* Se a média estiver entre 0.0 e 4.0, o aluno está reprovado\n",
        "* Se a média estiver entre 4.1 e 6.0, o aluno pegou exame\n",
        "* Se a média for maior do que 6.0, o aluno está aprovado\n",
        "* Se o aluno pegou exame, deve ser lida a nota do exame. Se a nota do exame for maior do que 6.0, está aprovado, senão; está reprovado\n"
      ],
      "metadata": {
        "id": "RCrTUh1E7OWn"
      }
    },
    {
      "cell_type": "code",
      "source": [
        "##### ESCREVER A FUNCAO ABAIXO\n",
        "def calcula_media(M1,M2,M3):\n",
        "  ###### escrever abaixo\n",
        "  print(\"Notas da disciplina de Programação I \")\n",
        "  M1 = float(input(\"Digite a nota M1: \"))\n",
        "  M2 = float(input(\"Digite a nota M2: \"))\n",
        "  M3 = float(input(\"Digite a nota M3: \"))\n",
        "  media = (M1 + M2 + M3) / 3\n",
        "  if(media > 0 and media <= 4):\n",
        "    print(\"Média: \", media, \"O aluno está reprovado!\")\n",
        "  elif(media <= 6):\n",
        "    print(\"Média: \", media, \"O aluno pegou exame!\")\n",
        "    exame = float(input(\"Digite a nota do exame: \"))\n",
        "    if(exame > 6):\n",
        "      print(\"O aluno está aprovado!\")\n",
        "    else:\n",
        "      print(\"O aluno está reprovado\")  \n",
        "  else:\n",
        "    print(\"Média:\", media, \"O aluno está aprovado!\")\n",
        " "
      ],
      "metadata": {
        "id": "VzNdyWZE70oc"
      },
      "execution_count": null,
      "outputs": []
    },
    {
      "cell_type": "code",
      "source": [
        "##### RODAR A FUNCAO\n",
        "calcula_media(0, 0, 0)"
      ],
      "metadata": {
        "id": "cY7vMECS77QY",
        "colab": {
          "base_uri": "https://localhost:8080/"
        },
        "outputId": "46f0485c-16ff-42a9-a7cd-f22e0814d8d5"
      },
      "execution_count": null,
      "outputs": [
        {
          "output_type": "stream",
          "name": "stdout",
          "text": [
            "Notas da disciplina de Programação I \n",
            "Digite a nota M1: 4\n",
            "Digite a nota M2: 4\n",
            "Digite a nota M3: 1\n",
            "Média:  3.0 O aluno está reprovado!\n"
          ]
        }
      ]
    },
    {
      "cell_type": "markdown",
      "source": [
        "### Desafio 5\n",
        "Dado a seguinte lista: \n",
        "* equipes_bootcamp_dados = [BerthaLutz, GraceHopper, JaquelineGoes, SarahGilbert]\n",
        "\n",
        "1. Crie uma função em python que conte quantas vezes aparece a letra a em cada elemento da lista. Seu resultado deve ser uma lista . exemplo: [4,0,1,2]\n",
        "\n",
        "2. Leia a lista de alunas: ['Maria', 'Ana','Camila','Mariana','Elaine','Patricia','Marina','Erica','Larissa','Luiza', 'Nicole','Bruna']\n",
        "\n",
        "3. Crie uma função que atribua cada uma das alunas em uma das equipes da lista equipes_bootcamp_dados, de modo que cada equipe pode ter 3 alunas no máximo.\n",
        "\n",
        " Para isso ordene em alfabética. O seu resultado deve ser um dicionário python. exemplo {'BerthaLutz': ['Ana', 'Bruna', 'Camila'], 'GraceHopper': ['Elaine','Erika','Luiza'],... }\n"
      ],
      "metadata": {
        "id": "eI9AkpYT788b"
      }
    },
    {
      "cell_type": "code",
      "source": [
        "##### ESCREVER A FUNCAO DA ETAPA 1\n",
        "def contador(equipes_bootcamp_dados):\n",
        "   #### escrever abaixo\n",
        "   equipes_bootcamp_dados = ['BerthaLutz', 'GraceHopper', 'JaquelineGoes', 'SarahGilbert']\n",
        "   letras = []\n",
        "   for i in equipes_bootcamp_dados:\n",
        "    a = i.count('a')\n",
        "    letras.append(a)\n",
        "   print(letras)\n",
        "   \n",
        "     \n",
        "   \n",
        "\n",
        "    \n",
        " "
      ],
      "metadata": {
        "id": "Zk6U7KnL8WBd"
      },
      "execution_count": null,
      "outputs": []
    },
    {
      "cell_type": "code",
      "source": [
        "###### RODAR A ETAPA 1\n",
        "contador(0)"
      ],
      "metadata": {
        "id": "snTgwxt_8hcj",
        "colab": {
          "base_uri": "https://localhost:8080/"
        },
        "outputId": "5e4e7280-21c7-4932-fa95-cbc05551ab0a"
      },
      "execution_count": null,
      "outputs": [
        {
          "output_type": "stream",
          "name": "stdout",
          "text": [
            "[1, 1, 1, 2]\n",
            "4\n"
          ]
        }
      ]
    },
    {
      "cell_type": "code",
      "source": [
        "##### LER A ETAPA 2\n",
        "lista_alunas = ['Maria', 'Ana','Camila','Mariana','Elaine','Patricia','Marina','Erica','Larissa','Luiza', 'Nicole','Bruna']\n",
        "print(lista_alunas)"
      ],
      "metadata": {
        "id": "xgkMVykO8jB-",
        "colab": {
          "base_uri": "https://localhost:8080/"
        },
        "outputId": "dde3d22a-b341-4c36-f429-c0f2703b2f06"
      },
      "execution_count": null,
      "outputs": [
        {
          "output_type": "stream",
          "name": "stdout",
          "text": [
            "['Maria', 'Ana', 'Camila', 'Mariana', 'Elaine', 'Patricia', 'Marina', 'Erica', 'Larissa', 'Luiza', 'Nicole', 'Bruna']\n"
          ]
        }
      ]
    },
    {
      "cell_type": "code",
      "source": [
        "##### ESCREVER A FUNCAO DA ETAPA 3\n",
        "def ordenacao(lista_alunas, equipes_bootcamp_dados):\n",
        "  ### escrever abaixo\n",
        "  lista_alunas = ['Maria', 'Ana','Camila','Mariana','Elaine','Patricia','Marina','Erica','Larissa','Luiza', 'Nicole','Bruna']\n",
        "  lista_alunas.sort()\n",
        "  equipes_bootcamp_dados = ['BerthaLutz', 'GraceHopper', 'JaquelineGoes', 'SarahGilbert']\n",
        "  x = 3\n",
        "  equipes_divididas = lambda lista_alunas, x: [lista_alunas[i:i+3] for i in range(0, len(lista_alunas),x)]\n",
        "  equipes = equipes_divididas(lista_alunas, x)\n",
        "    \n",
        "  d = dict(zip(equipes_bootcamp_dados, equipes))\n",
        "  print(d)"
      ],
      "metadata": {
        "id": "_ySYFooB8jFF"
      },
      "execution_count": null,
      "outputs": []
    },
    {
      "cell_type": "code",
      "source": [
        "##### RODAR A FUNCAO DA ETAPA 3\n",
        "ordenacao(0,0)\n"
      ],
      "metadata": {
        "id": "8qZnUInj9Uvr",
        "colab": {
          "base_uri": "https://localhost:8080/"
        },
        "outputId": "c91e530c-f130-45b5-b45a-88d1d02fbbe3"
      },
      "execution_count": null,
      "outputs": [
        {
          "output_type": "stream",
          "name": "stdout",
          "text": [
            "{'BerthaLutz': ['Ana', 'Bruna', 'Camila'], 'GraceHopper': ['Elaine', 'Erica', 'Larissa'], 'JaquelineGoes': ['Luiza', 'Maria', 'Mariana'], 'SarahGilbert': ['Marina', 'Nicole', 'Patricia']}\n"
          ]
        }
      ]
    },
    {
      "cell_type": "markdown",
      "source": [
        "### Desafio 6\n",
        "Escreva uma função em python que leia uma temperatura em graus Celsius e retorne a conversao dela em graus Fahrenheit. \n",
        "\n",
        "A fórmula de conversão é F = (9 * C + 160) / 5, na qual F é a temperatura em Fahrenheit e C é a temperatura em graus Celsius\n",
        "\n",
        "\n"
      ],
      "metadata": {
        "id": "AXoFPjyx82gG"
      }
    },
    {
      "cell_type": "code",
      "source": [
        "##### ESCREVER A FUNCAO\n",
        "def conversor_temperatura(temperatura):\n",
        "  ### escrever abaixo \n",
        "  temperatura = eval(input(\"Grau Celsius = \"))\n",
        "  F = (9.0 * temperatura + 160.0) / 5.0\n",
        "  print(\"%6.2f °C = %6.2f °F\" % (temperatura, F))\n",
        " "
      ],
      "metadata": {
        "id": "OsCU2Msu9D9o"
      },
      "execution_count": null,
      "outputs": []
    },
    {
      "cell_type": "code",
      "source": [
        "##### RODAR A FUNCAO\n",
        "conversor_temperatura(0)"
      ],
      "metadata": {
        "id": "UBCdsBgi9Xa2",
        "colab": {
          "base_uri": "https://localhost:8080/"
        },
        "outputId": "8c154fc7-e849-4594-bbd2-f3998a7f4819"
      },
      "execution_count": null,
      "outputs": [
        {
          "output_type": "stream",
          "name": "stdout",
          "text": [
            "Grau Celsius = 25\n",
            " 25.00 °C =  77.00 °F\n"
          ]
        }
      ]
    }
  ]
}